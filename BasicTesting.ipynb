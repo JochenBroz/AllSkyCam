{
 "cells": [
  {
   "cell_type": "markdown",
   "metadata": {},
   "source": [
    "# Test DHT11"
   ]
  },
  {
   "cell_type": "code",
   "execution_count": null,
   "metadata": {},
   "outputs": [],
   "source": [
    "import Adafruit_DHT"
   ]
  },
  {
   "cell_type": "code",
   "execution_count": null,
   "metadata": {},
   "outputs": [],
   "source": [
    "#Sensortyp und GPIO festlegen\n",
    "sensor = Adafruit_DHT.DHT11\n",
    "gpio = 4\n",
    "\n",
    "# Daten auslesen\n",
    "humidity, temperature = Adafruit_DHT.read_retry(sensor, gpio)\n",
    "\n",
    "# Ausgabe\n",
    "print('Temperatur: {0:0.1f}*C Luftfeuchtigkeit: {1:0.1f}%'.format(temperature,humidity))"
   ]
  },
  {
   "cell_type": "markdown",
   "metadata": {},
   "source": [
    "# Test Camera"
   ]
  },
  {
   "cell_type": "code",
   "execution_count": null,
   "metadata": {},
   "outputs": [],
   "source": [
    "import cv2\n",
    "import ipywidgets as widgets\n",
    "from IPython.display import display\n",
    "\n",
    "cap = cv2.VideoCapture(0)\n",
    "\n",
    "imw = widgets.Image(format='jpg', height=1200, width=1600)\n",
    "display(imw)\n",
    "\n",
    "for i in range(1):\n",
    "    try:\n",
    "        ret, frame = cap.read()   \n",
    "        imw.value = cv2.imencode('.jpg', frame)[1].tobytes()\n",
    "    except KeyboardInterrupt:\n",
    "        cap.release()"
   ]
  },
  {
   "cell_type": "markdown",
   "metadata": {},
   "source": [
    "# Test Heater"
   ]
  },
  {
   "cell_type": "code",
   "execution_count": null,
   "metadata": {
    "scrolled": false
   },
   "outputs": [],
   "source": [
    "from time import sleep\n",
    "import Adafruit_DHT\n",
    "import RPi.GPIO as GPIO\n",
    "\n",
    "#Sensortyp und GPIO festlegen\n",
    "sensor = Adafruit_DHT.DHT11\n",
    "gpio = 4\n",
    "\n",
    "GPIO.setmode(GPIO.BOARD)\n",
    "Signal_Pin = 16\n",
    "GPIO.setup(Signal_Pin, GPIO.OUT)\n",
    "try:\n",
    "    while True:\n",
    "        GPIO.output(Signal_Pin, GPIO.HIGH)\n",
    "        for i in range(120):\n",
    "            humidity, temperature = Adafruit_DHT.read_retry(sensor, gpio)\n",
    "            print('Heater: {0:1d} Temperatur: {1:0.1f}*C Luftfeuchtigkeit: {2:0.1f}%'.format(1,temperature,humidity))\n",
    "            sleep(1)\n",
    "        GPIO.output(Signal_Pin, GPIO.LOW)\n",
    "        for i in range(120):\n",
    "            humidity, temperature = Adafruit_DHT.read_retry(sensor, gpio)\n",
    "            print('Heater: {0:1d} Temperatur: {1:0.1f}*C Luftfeuchtigkeit: {2:0.1f}%'.format(0,temperature,humidity))\n",
    "            sleep (1)\n",
    "except KeyboardInterrupt:\n",
    "    GPIO.output(Signal_Pin, GPIO.LOW)\n",
    "    GPIO.cleanup()"
   ]
  },
  {
   "cell_type": "code",
   "execution_count": null,
   "metadata": {},
   "outputs": [],
   "source": [
    "import RPi.GPIO as GPIO\n",
    "\n",
    "\n",
    "GPIO.setmode(GPIO.BOARD)\n",
    "Signal_Pin = 16\n",
    "GPIO.setup(Signal_Pin, GPIO.OUT)\n",
    "GPIO.output(Signal_Pin, GPIO.LOW)"
   ]
  },
  {
   "cell_type": "code",
   "execution_count": null,
   "metadata": {},
   "outputs": [],
   "source": []
  }
 ],
 "metadata": {
  "kernelspec": {
   "display_name": "Python 3 (ipykernel)",
   "language": "python",
   "name": "python3"
  },
  "language_info": {
   "codemirror_mode": {
    "name": "ipython",
    "version": 3
   },
   "file_extension": ".py",
   "mimetype": "text/x-python",
   "name": "python",
   "nbconvert_exporter": "python",
   "pygments_lexer": "ipython3",
   "version": "3.7.3"
  }
 },
 "nbformat": 4,
 "nbformat_minor": 4
}
