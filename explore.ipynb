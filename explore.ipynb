{
 "cells": [
  {
   "cell_type": "markdown",
   "metadata": {},
   "source": [
    "# Exploration\n",
    "\n",
    "This notebook is used for functional exploration, in order to figure out how things work, so that they then can be implemented in the allskycam.py-Module\n"
   ]
  },
  {
   "cell_type": "code",
   "execution_count": null,
   "metadata": {},
   "outputs": [],
   "source": [
    "import allskycam\n",
    "\n",
    "import cv2\n",
    "import ipywidgets as widgets\n",
    "from IPython.display import display\n",
    "\n",
    "from io import BytesIO\n",
    "from time import sleep\n",
    "from picamera import PiCamera\n",
    "\n",
    "from matplotlib import pyplot as plt\n",
    "\n",
    "import time\n",
    "import numpy as np"
   ]
  },
  {
   "cell_type": "markdown",
   "metadata": {},
   "source": [
    "## Camera capture to stream and display single image using PiCamera"
   ]
  },
  {
   "cell_type": "code",
   "execution_count": null,
   "metadata": {},
   "outputs": [],
   "source": [
    "stream = BytesIO()\n",
    "\n",
    "# grab image from camera\n",
    "with PiCamera() as camera:\n",
    "    camera.capture(stream, format='jpeg')\n",
    "    stream.seek(0)\n",
    "    jpeg_image = stream.read()\n",
    "\n",
    "# display image\n",
    "widgets.Image(\n",
    "    value=jpeg_image,\n",
    "    format='jpg',\n",
    "    width=900\n",
    ")"
   ]
  },
  {
   "cell_type": "markdown",
   "metadata": {},
   "source": [
    "## Camera capture to stream and display sequence of images using PiCamera"
   ]
  },
  {
   "cell_type": "code",
   "execution_count": null,
   "metadata": {},
   "outputs": [],
   "source": [
    "stream = BytesIO()\n",
    "\n",
    "wgt = widgets.Image(\n",
    "    format='jpeg',\n",
    "    width=900\n",
    ")\n",
    "display(wgt)\n",
    "\n",
    "# grab image from camera\n",
    "with PiCamera() as camera:\n",
    "    for i in range(100):\n",
    "        camera.capture(stream, format='jpeg')\n",
    "        stream.seek(0)\n",
    "        jpeg_image = stream.read()\n",
    "        wgt.value = jpeg_image"
   ]
  },
  {
   "cell_type": "markdown",
   "metadata": {},
   "source": [
    "## Acessing and controlling the camera\n",
    "\n",
    "It is very important to set both, framerate as well as shutter_speed to consistant values.\n",
    "\n",
    "If the frame_rate is too high, it is not possible to reach the exposure time, if the frame_rate is too low, a lot of time is needed to finalize the image capture sequence.\n",
    "\n",
    "In this example, the frame rate time is set 1 second longer than the exposure time."
   ]
  },
  {
   "cell_type": "code",
   "execution_count": 1,
   "metadata": {},
   "outputs": [],
   "source": [
    "import picamera\n",
    "from picamera import PiCamera\n",
    "from time import sleep\n",
    "from fractions import Fraction\n",
    "import allskycam\n",
    "from io import BytesIO\n",
    "import cv2\n",
    "from matplotlib import pyplot as plt\n",
    "import numpy as np\n",
    "from datetime import datetime\n",
    "picamera.CAPTURE_TIMEOUT = 1000\n",
    "PiCamera.CAPTURE_TIMEOUT = 1000"
   ]
  },
  {
   "cell_type": "code",
   "execution_count": 2,
   "metadata": {},
   "outputs": [],
   "source": [
    "class AllSkyCamera:\n",
    "    \n",
    "    def __init__(self, sensor_mode=3, exposure_time=10, gain=8, resolution=(1024, 768)):\n",
    "        \n",
    "        framerate = 0.9/exposure_time\n",
    "        self._camera = PiCamera(framerate=framerate, sensor_mode=sensor_mode)\n",
    "        \n",
    "        allskycam.set_analog_gain(self._camera, gain)\n",
    "        allskycam.set_digital_gain(self._camera, 1)\n",
    "        self._camera.resolution = resolution\n",
    "        self._camera.still_stats = False\n",
    "        self._camera.shutter_speed = exposure_time*1000000\n",
    "        self._camera.awb_gains = (1, 1)\n",
    "        self._camera.exposure_mode = 'off'\n",
    "        self._camera.awb_mode = 'off'\n",
    "        self._stream = BytesIO();\n",
    "    \n",
    "    \n",
    "    @property\n",
    "    def exposure_time(self):\n",
    "        return self._camera.shutter_speed/1000000\n",
    "    \n",
    "    \n",
    "    @exposure_time.setter\n",
    "    def exposure_time(self, value):\n",
    "        print('Setter for exposure time called with argument %f'%value)\n",
    "        self._camera.framerate = min([25, 0.999/value])\n",
    "        self._camera.shutter_speed = int(value*1000000)\n",
    "        print('exposure time set to %f'%(self._camera.shutter_speed/1000000))\n",
    "        self._camera.exposure_mode = 'off'\n",
    "        self._camera.awb_mode = 'off'\n",
    "    \n",
    "    \n",
    "    @property\n",
    "    def gain(self):\n",
    "        return self._camera.analog_gain\n",
    "    \n",
    "    \n",
    "    @gain.setter\n",
    "    def gain(self, value):\n",
    "        print('Setter for gain called with argument %f'%value)\n",
    "        allskycam.set_analog_gain(self._camera, value)\n",
    "        \n",
    "    \n",
    "    def __del__(self):\n",
    "        self._camera.close()\n",
    "\n",
    "        \n",
    "    def capture(self):\n",
    "        \"\"\"return raw bayer imaga data with current settings\"\"\"\n",
    "        self._stream = BytesIO();\n",
    "        self._camera.capture(self._stream, format='jpeg',bayer=True)\n",
    "        #self.stream.seek(0)\n",
    "        return allskycam.get_bayer_data_from_stream(self._stream)\n",
    "    \n",
    "    def save(self):\n",
    "        self._stream.seek(0)\n",
    "        stream2save = self._stream; #allskycam.strip_bayer_data(self._stream)\n",
    "        filename = datetime.now().strftime(\"%y%m%d-%H%M%S.jpg\")\n",
    "        with open(filename, \"wb\") as f:\n",
    "            f.write(stream2save.getbuffer())\n",
    "    \n",
    "    \n",
    "    def auto_expose(self, raw):\n",
    "        print(self.exposure_time, self.gain)\n",
    "        gray = np.median(cv2.cvtColor(raw, cv2.COLOR_BAYER_GR2GRAY))\n",
    "        exposure_time = 2**10/gray*self.exposure_time\n",
    "        exposure_time = np.min([exposure_time, 50])\n",
    "        self.exposure_time = exposure_time\n",
    "        print(self.exposure_time, self.gain)"
   ]
  },
  {
   "cell_type": "code",
   "execution_count": 3,
   "metadata": {},
   "outputs": [],
   "source": [
    "myCamera = AllSkyCamera()"
   ]
  },
  {
   "cell_type": "code",
   "execution_count": 4,
   "metadata": {},
   "outputs": [
    {
     "name": "stdout",
     "output_type": "stream",
     "text": [
      "Setter for exposure time called with argument 0.000100\n",
      "exposure time set to 0.000214\n",
      "Setter for gain called with argument 1.000000\n"
     ]
    }
   ],
   "source": [
    "myCamera.exposure_time = 0.0001\n",
    "myCamera.gain = 1"
   ]
  },
  {
   "cell_type": "code",
   "execution_count": null,
   "metadata": {},
   "outputs": [
    {
     "name": "stdout",
     "output_type": "stream",
     "text": [
      "Setter for gain called with argument 1.000000\n",
      "0.0011 1\n",
      "Setter for exposure time called with argument 0.001093\n",
      "exposure time set to 0.001071\n",
      "0.001071 1\n",
      "0.001071 1\n",
      "Setter for exposure time called with argument 0.001084\n",
      "exposure time set to 0.001071\n",
      "0.001071 1\n",
      "0.001071 1\n",
      "Setter for exposure time called with argument 0.001079\n",
      "exposure time set to 0.001071\n",
      "0.001071 1\n",
      "0.001071 1\n",
      "Setter for exposure time called with argument 0.001077\n",
      "exposure time set to 0.001071\n",
      "0.001071 1\n",
      "0.001071 1\n",
      "Setter for exposure time called with argument 0.001075\n",
      "exposure time set to 0.001071\n",
      "0.001071 1\n",
      "0.001071 1\n",
      "Setter for exposure time called with argument 0.001072\n",
      "exposure time set to 0.001071\n",
      "0.001071 1\n",
      "0.001071 1\n",
      "Setter for exposure time called with argument 0.001067\n",
      "exposure time set to 0.001043\n",
      "0.001043 1\n",
      "0.001043 1\n",
      "Setter for exposure time called with argument 0.001059\n",
      "exposure time set to 0.001043\n",
      "0.001043 1\n",
      "0.001043 1\n",
      "Setter for exposure time called with argument 0.001059\n",
      "exposure time set to 0.001043\n",
      "0.001043 1\n",
      "0.001043 1\n",
      "Setter for exposure time called with argument 0.001057\n",
      "exposure time set to 0.001043\n",
      "0.001043 1\n",
      "0.001043 1\n",
      "Setter for exposure time called with argument 0.001061\n",
      "exposure time set to 0.001043\n",
      "0.001043 1\n",
      "0.001043 1\n",
      "Setter for exposure time called with argument 0.001056\n",
      "exposure time set to 0.001043\n",
      "0.001043 1\n",
      "0.001043 1\n",
      "Setter for exposure time called with argument 0.001059\n",
      "exposure time set to 0.001043\n",
      "0.001043 1\n",
      "0.001043 1\n",
      "Setter for exposure time called with argument 0.001063\n",
      "exposure time set to 0.001043\n",
      "0.001043 1\n",
      "0.001043 1\n",
      "Setter for exposure time called with argument 0.001070\n",
      "exposure time set to 0.001043\n",
      "0.001043 1\n",
      "0.001043 1\n",
      "Setter for exposure time called with argument 0.001076\n",
      "exposure time set to 0.001071\n",
      "0.001071 1\n",
      "0.001071 1\n",
      "Setter for exposure time called with argument 0.001079\n",
      "exposure time set to 0.001071\n",
      "0.001071 1\n",
      "0.001071 1\n",
      "Setter for exposure time called with argument 0.001079\n",
      "exposure time set to 0.001071\n",
      "0.001071 1\n",
      "0.001071 1\n",
      "Setter for exposure time called with argument 0.001079\n",
      "exposure time set to 0.001071\n",
      "0.001071 1\n",
      "0.001071 1\n",
      "Setter for exposure time called with argument 0.001085\n",
      "exposure time set to 0.001071\n",
      "0.001071 1\n",
      "0.001071 1\n",
      "Setter for exposure time called with argument 0.001083\n",
      "exposure time set to 0.001071\n",
      "0.001071 1\n"
     ]
    }
   ],
   "source": [
    "myCamera.gain = 1\n",
    "while True:\n",
    "    filename = datetime.now().strftime(\"%y%m%d-%H%M%S.jpg\")\n",
    "    img = myCamera.capture()\n",
    "    myCamera.auto_expose(img)\n",
    "    bgr = cv2.cvtColor(img, cv2.COLOR_BAYER_RG2BGR)/2**12\n",
    "    del(img)\n",
    "    bgr = np.clip(bgr - np.median(bgr[:100,:100,:],[0,1]),0,1)\n",
    "    bgr = bgr/np.max(bgr)\n",
    "    b,g,r = cv2.split(bgr)\n",
    "    del(bgr)\n",
    "    r = np.power(r, 0.4)*256\n",
    "    g = np.power(g, 0.5)*256\n",
    "    b = np.power(b, 0.3)*256\n",
    "    bgr = cv2.merge([b,g,r])\n",
    "    del(r,g,b)\n",
    "    cv2.imwrite(filename, bgr.astype('uint16'))\n",
    "    allskycam.wait_for_period(10)"
   ]
  },
  {
   "cell_type": "code",
   "execution_count": null,
   "metadata": {},
   "outputs": [],
   "source": [
    "rgb = cv2.cvtColor(img, cv2.COLOR_BAYER_RG2BGR)/2**12\n",
    "rgb = np.clip(rgb - np.median(rgb[:100,:100,:],[0,1]),0,1)\n",
    "rgb = rgb/np.max(rgb)\n",
    "rgb = np.power(rgb, 0.5)*256\n",
    "cv2.imwrite(filename, rgb.astype('uint16'))"
   ]
  },
  {
   "cell_type": "code",
   "execution_count": null,
   "metadata": {},
   "outputs": [],
   "source": [
    "?np.clip"
   ]
  },
  {
   "cell_type": "code",
   "execution_count": null,
   "metadata": {},
   "outputs": [],
   "source": [
    "!/home/pi/AllSkyCam/venv/bin/python -m pip install --upgrade pip"
   ]
  },
  {
   "cell_type": "code",
   "execution_count": null,
   "metadata": {},
   "outputs": [],
   "source": [
    "myCamera.close_camera()"
   ]
  },
  {
   "cell_type": "code",
   "execution_count": null,
   "metadata": {},
   "outputs": [],
   "source": [
    "plt.hist(R*1.66,512, color='r', histtype=u'step');\n",
    "plt.hist(G,512, color='g', histtype=u'step');\n",
    "plt.hist(B*1.52,512, color='b', histtype=u'step');\n",
    "plt.xlim((0,1200))"
   ]
  },
  {
   "cell_type": "markdown",
   "metadata": {},
   "source": [
    "## Looping Image Akquisition\n",
    "\n",
    "In the next section, the image akquisition is looped. Data is fetched from the camera including raw bayer data, for evaluation, but for storing the file, raw bayer data is striped away.\n"
   ]
  },
  {
   "cell_type": "code",
   "execution_count": null,
   "metadata": {},
   "outputs": [],
   "source": [
    "import picamera\n",
    "from picamera import PiCamera\n",
    "from time import sleep\n",
    "from fractions import Fraction\n",
    "picamera.CAPTURE_TIMEOUT = 240\n",
    "PiCamera.CAPTURE_TIMEOUT = 240\n",
    "from io import BytesIO\n",
    "import time\n",
    "import allskycam\n",
    "import ipywidgets as widgets\n",
    "from IPython.display import display\n",
    "\n",
    "picamera.CAPTURE_TIMEOUT = 1000\n",
    "PiCamera.CAPTURE_TIMEOUT = 1000"
   ]
  },
  {
   "cell_type": "code",
   "execution_count": null,
   "metadata": {},
   "outputs": [],
   "source": [
    "stream = BytesIO()\n",
    "expt = 45\n",
    "period = 60\n",
    "\n",
    "for i in range(600):\n",
    "    wait_for_period(period)\n",
    "    t1 = time.time()\n",
    "    filename = time.strftime(\"%Y%m%d%H%M%S\")+'.jpg'\n",
    "    with PiCamera( framerate=Fraction(1, expt+1), sensor_mode=3) as camera:\n",
    "        t0 = t1\n",
    "        stream.seek(0)\n",
    "        allskycam.set_analog_gain(camera, 8)\n",
    "        allskycam.set_digital_gain(camera, 1)\n",
    "        camera.resolution = (1024, 768)\n",
    "        camera.still_stats = False\n",
    "        camera.shutter_speed = expt*1000000\n",
    "        camera.awb_gains = (2.4, 2.21)\n",
    "        camera.exposure_mode = 'off'\n",
    "        camera.awb_mode = 'off'\n",
    "        camera.capture(stream, format='jpeg',bayer=True)\n",
    "        stream.seek(0)\n",
    "        jpeg_image = stream.read()\n",
    "        t1 = time.time()\n",
    "        if i==0:\n",
    "            imw = widgets.Image(value = jpeg_image, format='jpg')\n",
    "            display(imw)\n",
    "        imw.value = jpeg_image\n",
    "        #print('%3.2f seconds'%(t1-t0))\n",
    "    stream.seek(0)\n",
    "    striped = allskycam.strip_bayer_data(stream)\n",
    "    with open(filename, 'wb') as f:\n",
    "        f.write(striped)\n",
    "        "
   ]
  },
  {
   "cell_type": "code",
   "execution_count": null,
   "metadata": {},
   "outputs": [],
   "source": [
    "def wait_for_period(p):\n",
    "    t = time.time()\n",
    "    st = (int(t/p)+1)*p-t\n",
    "    time.sleep(st)"
   ]
  },
  {
   "cell_type": "code",
   "execution_count": null,
   "metadata": {},
   "outputs": [],
   "source": [
    "print(__name__)"
   ]
  },
  {
   "cell_type": "markdown",
   "metadata": {},
   "source": [
    "# Save jpeg image with stripped away raw data\n",
    "\n",
    "An image shall be akquired including raw data.\n",
    "The raw data part shall be truncated away leaving behind the plain jpeg.\n",
    "The truncated file without raw data shall be stored.\n"
   ]
  },
  {
   "cell_type": "code",
   "execution_count": null,
   "metadata": {},
   "outputs": [],
   "source": [
    "import picamera\n",
    "from picamera import PiCamera\n",
    "from time import sleep\n",
    "from fractions import Fraction\n",
    "picamera.CAPTURE_TIMEOUT = 240\n",
    "PiCamera.CAPTURE_TIMEOUT = 240\n",
    "from io import BytesIO\n",
    "import time\n",
    "import allskycam\n",
    "import ipywidgets as widgets\n",
    "from IPython.display import display\n",
    "\n",
    "picamera.CAPTURE_TIMEOUT = 1000\n",
    "PiCamera.CAPTURE_TIMEOUT = 1000\n",
    "\n",
    "stream = BytesIO()"
   ]
  },
  {
   "cell_type": "code",
   "execution_count": null,
   "metadata": {},
   "outputs": [],
   "source": [
    "expt = 10\n",
    "t0 = time.time()\n",
    "with PiCamera(sensor_mode=3) as camera:\n",
    "    allskycam.set_analog_gain(camera, 1)\n",
    "    allskycam.set_digital_gain(camera, 1)\n",
    "    camera.resolution = (1024, 768)\n",
    "    camera.still_stats = False\n",
    "    camera.framerate = 1/expt\n",
    "    camera.shutter_speed = int(expt*1000000)\n",
    "    camera.awb_gains = (2, 2.21)\n",
    "    camera.exposure_mode = 'off'\n",
    "    camera.awb_mode = 'off'\n",
    "    camera.capture(stream, format='jpeg',bayer=True)\n",
    "    t1 = time.time()\n",
    "    print('%3.2f seconds for a %3.2f s exposure'%((t1-t0), camera.exposure_speed/1000000))\n",
    "    print(camera.exposure_speed)\n",
    "    stream.seek(0)\n",
    "    jpeg_image = stream.read()\n",
    "\n",
    "imw = widgets.Image(format='jpg')\n",
    "imw.value = jpeg_image\n",
    "display(imw)"
   ]
  },
  {
   "cell_type": "code",
   "execution_count": null,
   "metadata": {},
   "outputs": [],
   "source": [
    "from picamera import PiCamera\n",
    "import time\n",
    "\n",
    "with PiCamera(sensor_mode=2) as cam:\n",
    "    exposure_time = 1.0 \n",
    "    cam.framerate = 1/exposure_time\n",
    "    cam.iso = 100\n",
    "    cam.shutter_speed = int(exposure_time*1000000)\n",
    "    cam.resolution = (1600, 900)\n",
    "    cam.exposure_mode = 'off'\n",
    "    time.sleep(5)\n",
    "    cam.capture(\"test.jpg\")\n",
    "    print(cam.exposure_speed)"
   ]
  },
  {
   "cell_type": "markdown",
   "metadata": {},
   "source": [
    "# Using PiCamera[Array]-functionallity"
   ]
  },
  {
   "cell_type": "code",
   "execution_count": null,
   "metadata": {},
   "outputs": [],
   "source": [
    "import picamera\n",
    "import picamera.array\n",
    "\n",
    "with picamera.PiCamera() as camera:\n",
    "    with picamera.array.PiBayerArray(camera) as output:\n",
    "        camera.capture(output, 'jpeg', bayer=True)\n",
    "        print(output.array.shape)"
   ]
  },
  {
   "cell_type": "code",
   "execution_count": null,
   "metadata": {},
   "outputs": [],
   "source": []
  }
 ],
 "metadata": {
  "kernelspec": {
   "display_name": "Python 3 (ipykernel)",
   "language": "python",
   "name": "python3"
  },
  "language_info": {
   "codemirror_mode": {
    "name": "ipython",
    "version": 3
   },
   "file_extension": ".py",
   "mimetype": "text/x-python",
   "name": "python",
   "nbconvert_exporter": "python",
   "pygments_lexer": "ipython3",
   "version": "3.9.2"
  }
 },
 "nbformat": 4,
 "nbformat_minor": 4
}
