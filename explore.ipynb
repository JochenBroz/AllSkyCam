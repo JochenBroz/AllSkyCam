{
 "cells": [
  {
   "cell_type": "markdown",
   "metadata": {},
   "source": [
    "# Exploration\n",
    "\n",
    "This notebook is used for functional exploration, in order to figure out how things work, so that they then can be implemented in the allskycam.py-Module\n"
   ]
  },
  {
   "cell_type": "code",
   "execution_count": 2,
   "metadata": {},
   "outputs": [],
   "source": [
    "import allskycam\n",
    "\n",
    "import ipywidgets as widgets\n",
    "from IPython.display import display\n",
    "\n",
    "from io import BytesIO\n",
    "from time import sleep\n",
    "from picamera import PiCamera\n",
    "\n",
    "from matplotlib import pyplot as plt\n",
    "\n"
   ]
  },
  {
   "cell_type": "markdown",
   "metadata": {},
   "source": [
    "## Camera capture to stream and display single image using PiCamera"
   ]
  },
  {
   "cell_type": "code",
   "execution_count": 3,
   "metadata": {},
   "outputs": [
    {
     "data": {
      "application/vnd.jupyter.widget-view+json": {
       "model_id": "d1b3fcfbb71d4f3eb9d323c2d36bf3f5",
       "version_major": 2,
       "version_minor": 0
      },
      "text/plain": [
       "Image(value=b'\\xff\\xd8\\xff\\xe1c\\xd8Exif\\x00\\x00MM\\x00*\\x00\\x00\\x00\\x08\\x00\\n\\x01\\x00\\x00\\x04\\x00\\x00\\x00\\x01\\x…"
      ]
     },
     "metadata": {},
     "output_type": "display_data"
    }
   ],
   "source": [
    "stream = BytesIO()\n",
    "\n",
    "# grab image from camera\n",
    "with PiCamera() as camera:\n",
    "    camera.capture(stream, format='jpeg')\n",
    "    stream.seek(0)\n",
    "    jpeg_image = stream.read()\n",
    "\n",
    "# display image\n",
    "widgets.Image(\n",
    "    value=jpeg_image,\n",
    "    format='jpg',\n",
    "    width=900\n",
    ")"
   ]
  },
  {
   "cell_type": "markdown",
   "metadata": {},
   "source": [
    "## Camera capture to stream and display sequence of images using PiCamera"
   ]
  },
  {
   "cell_type": "code",
   "execution_count": null,
   "metadata": {},
   "outputs": [
    {
     "data": {
      "application/vnd.jupyter.widget-view+json": {
       "model_id": "54a6929842ed47fdb9e87fc438fbb7c2",
       "version_major": 2,
       "version_minor": 0
      },
      "text/plain": [
       "Image(value=b'', format='jpeg', width='900')"
      ]
     },
     "metadata": {},
     "output_type": "display_data"
    }
   ],
   "source": [
    "stream = BytesIO()\n",
    "\n",
    "wgt = widgets.Image(\n",
    "    format='jpeg',\n",
    "    width=900\n",
    ")\n",
    "display(wgt)\n",
    "\n",
    "# grab image from camera\n",
    "with PiCamera() as camera:\n",
    "    for i in range(100):\n",
    "        camera.capture(stream, format='jpeg')\n",
    "        stream.seek(0)\n",
    "        jpeg_image = stream.read()\n",
    "        wgt.value = jpeg_image"
   ]
  },
  {
   "cell_type": "markdown",
   "metadata": {},
   "source": [
    "## Acessing and controlling the camera"
   ]
  },
  {
   "cell_type": "code",
   "execution_count": null,
   "metadata": {},
   "outputs": [],
   "source": []
  },
  {
   "cell_type": "code",
   "execution_count": null,
   "metadata": {},
   "outputs": [],
   "source": [
    "from picamera import PiCamera\n",
    "from time import sleep\n",
    "from fractions import Fraction\n",
    "PiCamera.CAPTURE_TIMEOUT = 120\n",
    "\n"
   ]
  },
  {
   "cell_type": "code",
   "execution_count": null,
   "metadata": {},
   "outputs": [],
   "source": [
    "# Force sensor mode 3 (the long exposure mode), set\n",
    "# the framerate to 1/6fps, the shutter speed to 6s,\n",
    "# and ISO to 800 (for maximum gain)\n",
    "with PiCamera( framerate=Fraction(1, 30), sensor_mode=3) as camera:\n",
    "    allskycam.set_analog_gain(camera, 16)\n",
    "    allskycam.set_digital_gain(camera, 1)\n",
    "    camera.resolution = (1024, 768)\n",
    "    camera.still_stats = False\n",
    "    camera.shutter_speed = 30000000\n",
    "    camera.exposure_mode = 'off'\n",
    "    camera.awb_mode = 'off'\n",
    "    camera.capture('img.jpg', format='jpeg')\n",
    "    camera.close()\n",
    "    my_stream.seek(0)\n",
    "    jpeg = my_stream.read()"
   ]
  },
  {
   "cell_type": "code",
   "execution_count": 47,
   "metadata": {},
   "outputs": [
    {
     "data": {
      "application/vnd.jupyter.widget-view+json": {
       "model_id": "3b03806800a542e0a5dc1d14e27c5100",
       "version_major": 2,
       "version_minor": 0
      },
      "text/plain": [
       "Image(value=b'\\xff\\xd8\\xff\\xe1c\\xc2Exif\\x00\\x00MM\\x00*\\x00\\x00\\x00\\x08\\x00\\n\\x01\\x00\\x00\\x04\\x00\\x00\\x00\\x01\\x…"
      ]
     },
     "metadata": {},
     "output_type": "display_data"
    }
   ],
   "source": [
    "imw = widgets.Image(format='jpg')\n",
    "imw.value = jpeg\n",
    "display(imw)"
   ]
  },
  {
   "cell_type": "code",
   "execution_count": 43,
   "metadata": {},
   "outputs": [
    {
     "data": {
      "text/plain": [
       "3283273"
      ]
     },
     "execution_count": 43,
     "metadata": {},
     "output_type": "execute_result"
    }
   ],
   "source": [
    "len(jpeg)"
   ]
  },
  {
   "cell_type": "code",
   "execution_count": 8,
   "metadata": {},
   "outputs": [],
   "source": [
    "from matplotlib import pyplot as plt"
   ]
  },
  {
   "cell_type": "code",
   "execution_count": 5,
   "metadata": {},
   "outputs": [
    {
     "data": {
      "text/plain": [
       "<matplotlib.image.AxesImage at 0x682fc950>"
      ]
     },
     "execution_count": 5,
     "metadata": {},
     "output_type": "execute_result"
    },
    {
     "data": {
      "image/png": "[encoded data removed]",
      "text/plain": [
       "<Figure size 432x288 with 1 Axes>"
      ]
     },
     "metadata": {
      "needs_background": "light"
     },
     "output_type": "display_data"
    }
   ],
   "source": [
    "plt.imshow(rgb);"
   ]
  },
  {
   "cell_type": "code",
   "execution_count": 6,
   "metadata": {},
   "outputs": [
    {
     "name": "stdout",
     "output_type": "stream",
     "text": [
      "Looking in indexes: https://pypi.org/simple, https://www.piwheels.org/simple\n",
      "Collecting matplotlib\n",
      "  Downloading matplotlib-3.5.1.tar.gz (35.3 MB)\n",
      "     |████████████████████████████████| 35.3 MB 7.6 kB/s            \n",
      "\u001b[?25h  Preparing metadata (setup.py) ... \u001b[?25ldone\n",
      "\u001b[?25hCollecting cycler>=0.10\n",
      "  Downloading https://www.piwheels.org/simple/cycler/cycler-0.11.0-py3-none-any.whl (6.4 kB)\n",
      "Collecting fonttools>=4.22.0\n",
      "  Downloading fonttools-4.28.4-py3-none-any.whl (885 kB)\n",
      "     |████████████████████████████████| 885 kB 2.2 MB/s            \n",
      "\u001b[?25hCollecting kiwisolver>=1.0.1\n",
      "  Downloading https://www.piwheels.org/simple/kiwisolver/kiwisolver-1.3.2-cp37-cp37m-linux_armv7l.whl (1.4 MB)\n",
      "     |████████████████████████████████| 1.4 MB 618 kB/s            \n",
      "\u001b[?25hRequirement already satisfied: numpy>=1.17 in ./astro/lib/python3.7/site-packages (from matplotlib) (1.21.4)\n",
      "Requirement already satisfied: packaging>=20.0 in ./astro/lib/python3.7/site-packages (from matplotlib) (21.3)\n",
      "Collecting pillow>=6.2.0\n",
      "  Downloading https://www.piwheels.org/simple/pillow/Pillow-8.4.0-cp37-cp37m-linux_armv7l.whl (1.3 MB)\n",
      "     |████████████████████████████████| 1.3 MB 634 kB/s            \n",
      "\u001b[?25hRequirement already satisfied: pyparsing>=2.2.1 in ./astro/lib/python3.7/site-packages (from matplotlib) (3.0.6)\n",
      "Requirement already satisfied: python-dateutil>=2.7 in ./astro/lib/python3.7/site-packages (from matplotlib) (2.8.2)\n",
      "Requirement already satisfied: six>=1.5 in ./astro/lib/python3.7/site-packages (from python-dateutil>=2.7->matplotlib) (1.16.0)\n",
      "Building wheels for collected packages: matplotlib\n",
      "  Building wheel for matplotlib (setup.py) ... \u001b[?25ldone\n",
      "\u001b[?25h  Created wheel for matplotlib: filename=matplotlib-3.5.1-cp37-cp37m-linux_armv7l.whl size=10791979 sha256=4461069cd16d210eeac0f8de5113ca77e96529403be0c074a914cab8cdb084dc\n",
      "  Stored in directory: /home/pi/.cache/pip/wheels/40/3b/dc/f067096d67209eba9010d8fef296190fa96a4c4e16b26d73b6\n",
      "Successfully built matplotlib\n",
      "Installing collected packages: pillow, kiwisolver, fonttools, cycler, matplotlib\n",
      "Successfully installed cycler-0.11.0 fonttools-4.28.4 kiwisolver-1.3.2 matplotlib-3.5.1 pillow-8.4.0\n"
     ]
    }
   ],
   "source": [
    "!pip install matplotlib"
   ]
  },
  {
   "cell_type": "code",
   "execution_count": null,
   "metadata": {},
   "outputs": [],
   "source": []
  }
 ],
 "metadata": {
  "kernelspec": {
   "display_name": "Python 3 (ipykernel)",
   "language": "python",
   "name": "python3"
  },
  "language_info": {
   "codemirror_mode": {
    "name": "ipython",
    "version": 3
   },
   "file_extension": ".py",
   "mimetype": "text/x-python",
   "name": "python",
   "nbconvert_exporter": "python",
   "pygments_lexer": "ipython3",
   "version": "3.9.2"
  }
 },
 "nbformat": 4,
 "nbformat_minor": 4
}
