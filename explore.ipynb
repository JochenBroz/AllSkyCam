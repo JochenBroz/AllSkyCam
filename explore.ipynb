{
 "cells": [
  {
   "cell_type": "markdown",
   "metadata": {},
   "source": [
    "# Exploration\n",
    "\n",
    "This notebook is used for functional exploration, in order to figure out how things work, so that they then can be implemented in the allskycam.py-Module\n"
   ]
  },
  {
   "cell_type": "code",
   "execution_count": 44,
   "metadata": {},
   "outputs": [],
   "source": [
    "import allskycam\n",
    "\n",
    "import ipywidgets as widgets\n",
    "from IPython.display import display\n",
    "\n",
    "from io import BytesIO\n",
    "from time import sleep\n",
    "from picamera import PiCamera\n",
    "\n",
    "from matplotlib import pyplot as plt\n",
    "\n",
    "import time\n",
    "import numpy as np"
   ]
  },
  {
   "cell_type": "markdown",
   "metadata": {},
   "source": [
    "## Camera capture to stream and display single image using PiCamera"
   ]
  },
  {
   "cell_type": "code",
   "execution_count": 7,
   "metadata": {},
   "outputs": [
    {
     "data": {
      "application/vnd.jupyter.widget-view+json": {
       "model_id": "c2255c7061b143168c803d6fefe9c620",
       "version_major": 2,
       "version_minor": 0
      },
      "text/plain": [
       "Image(value=b'\\xff\\xd8\\xff\\xe1c\\xdcExif\\x00\\x00MM\\x00*\\x00\\x00\\x00\\x08\\x00\\n\\x01\\x00\\x00\\x04\\x00\\x00\\x00\\x01\\x…"
      ]
     },
     "metadata": {},
     "output_type": "display_data"
    }
   ],
   "source": [
    "stream = BytesIO()\n",
    "\n",
    "# grab image from camera\n",
    "with PiCamera() as camera:\n",
    "    camera.capture(stream, format='jpeg')\n",
    "    stream.seek(0)\n",
    "    jpeg_image = stream.read()\n",
    "\n",
    "# display image\n",
    "widgets.Image(\n",
    "    value=jpeg_image,\n",
    "    format='jpg',\n",
    "    width=900\n",
    ")"
   ]
  },
  {
   "cell_type": "markdown",
   "metadata": {},
   "source": [
    "## Camera capture to stream and display sequence of images using PiCamera"
   ]
  },
  {
   "cell_type": "code",
   "execution_count": 8,
   "metadata": {},
   "outputs": [
    {
     "data": {
      "application/vnd.jupyter.widget-view+json": {
       "model_id": "e43179d61b054ec5b2b9b1bf3cca0d40",
       "version_major": 2,
       "version_minor": 0
      },
      "text/plain": [
       "Image(value=b'', format='jpeg', width='900')"
      ]
     },
     "metadata": {},
     "output_type": "display_data"
    }
   ],
   "source": [
    "stream = BytesIO()\n",
    "\n",
    "wgt = widgets.Image(\n",
    "    format='jpeg',\n",
    "    width=900\n",
    ")\n",
    "display(wgt)\n",
    "\n",
    "# grab image from camera\n",
    "with PiCamera() as camera:\n",
    "    for i in range(10):\n",
    "        camera.capture(stream, format='jpeg')\n",
    "        stream.seek(0)\n",
    "        jpeg_image = stream.read()\n",
    "        wgt.value = jpeg_image"
   ]
  },
  {
   "cell_type": "markdown",
   "metadata": {},
   "source": [
    "## Acessing and controlling the camera\n",
    "\n",
    "It is very important to set both, framerate as well as shutter_speed to consistant values.\n",
    "\n",
    "If the frame_rate is too high, it is not possible to reach the exposure time, if the frame_rate is too low, a lot of time is needed to finalize the image capture sequence.\n",
    "\n",
    "In this example, the frame rate time is set 1 second longer than the exposure time."
   ]
  },
  {
   "cell_type": "code",
   "execution_count": 37,
   "metadata": {},
   "outputs": [],
   "source": [
    "from picamera import PiCamera\n",
    "from time import sleep\n",
    "from fractions import Fraction\n",
    "PiCamera.CAPTURE_TIMEOUT = 240"
   ]
  },
  {
   "cell_type": "code",
   "execution_count": 114,
   "metadata": {},
   "outputs": [
    {
     "name": "stdout",
     "output_type": "stream",
     "text": [
      "2.64 seconds\n"
     ]
    }
   ],
   "source": [
    "stream = BytesIO()\n",
    "expt = 1\n",
    "\n",
    "t0 = time.time()\n",
    "with PiCamera( framerate=Fraction(1, expt+1), sensor_mode=3) as camera:\n",
    "    allskycam.set_analog_gain(camera, 1)\n",
    "    allskycam.set_digital_gain(camera, 1)\n",
    "    camera.resolution = (1024, 768)\n",
    "    camera.still_stats = False\n",
    "    camera.shutter_speed = expt*1000000\n",
    "    camera.awb_gains = (2, 2.5)\n",
    "    camera.exposure_mode = 'off'\n",
    "    camera.awb_mode = 'off'\n",
    "    camera.capture(stream, format='jpeg',bayer=True)\n",
    "    stream.seek(0)\n",
    "    jpeg_image = stream.read()\n",
    "    t1 = time.time()\n",
    "print('%3.2f seconds'%(t1-t0))"
   ]
  },
  {
   "cell_type": "code",
   "execution_count": 115,
   "metadata": {
    "scrolled": true
   },
   "outputs": [
    {
     "data": {
      "application/vnd.jupyter.widget-view+json": {
       "model_id": "f273aee931d64df4bd2c453e75fd346b",
       "version_major": 2,
       "version_minor": 0
      },
      "text/plain": [
       "Image(value=b'\\xff\\xd8\\xff\\xe1c\\xccExif\\x00\\x00MM\\x00*\\x00\\x00\\x00\\x08\\x00\\n\\x01\\x00\\x00\\x04\\x00\\x00\\x00\\x01\\x…"
      ]
     },
     "metadata": {},
     "output_type": "display_data"
    }
   ],
   "source": [
    "imw = widgets.Image(format='jpg')\n",
    "imw.value = jpeg_image\n",
    "display(imw)"
   ]
  },
  {
   "cell_type": "code",
   "execution_count": 111,
   "metadata": {},
   "outputs": [
    {
     "data": {
      "text/plain": [
       "(3.0195791542538504, 2.776585853934087)"
      ]
     },
     "execution_count": 111,
     "metadata": {},
     "output_type": "execute_result"
    }
   ],
   "source": [
    "# getting the raw image data\n",
    "stream.seek(0)\n",
    "raw = allskycam.get_bayer_data_from_stream(stream)\n",
    "\n",
    "R = raw[0::2,0::2]\n",
    "G1 = raw[1::2,0::2]\n",
    "G2 = raw[0::2,1::2]\n",
    "B = raw[1::2,1::2]\n",
    "\n",
    "R = R.flatten()\n",
    "G = np.append(G1.flatten(), G2.flatten())\n",
    "B = B.flatten()\n",
    "\n",
    "Gm = np.mean(G)*2\n",
    "Rm = np.mean(R)\n",
    "Bm = np.mean(B)\n",
    "\n",
    "(Gm/Rm, Gm/Bm)"
   ]
  },
  {
   "cell_type": "code",
   "execution_count": 104,
   "metadata": {},
   "outputs": [
    {
     "data": {
      "image/png": "[encoded data removed]",
      "text/plain": [
       "<Figure size 432x288 with 1 Axes>"
      ]
     },
     "metadata": {
      "needs_background": "light"
     },
     "output_type": "display_data"
    }
   ],
   "source": [
    "plt.hist(R,512, color='r', histtype=u'step');\n",
    "plt.hist(G,512, color='g', histtype=u'step');\n",
    "plt.hist(B,512, color='b', histtype=u'step');"
   ]
  },
  {
   "cell_type": "code",
   "execution_count": null,
   "metadata": {},
   "outputs": [],
   "source": []
  }
 ],
 "metadata": {
  "kernelspec": {
   "display_name": "Python 3 (ipykernel)",
   "language": "python",
   "name": "python3"
  },
  "language_info": {
   "codemirror_mode": {
    "name": "ipython",
    "version": 3
   },
   "file_extension": ".py",
   "mimetype": "text/x-python",
   "name": "python",
   "nbconvert_exporter": "python",
   "pygments_lexer": "ipython3",
   "version": "3.9.2"
  }
 },
 "nbformat": 4,
 "nbformat_minor": 4
}
