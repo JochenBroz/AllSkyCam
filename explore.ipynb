{
 "cells": [
  {
   "cell_type": "markdown",
   "metadata": {},
   "source": [
    "# Exploration\n",
    "\n",
    "This notebook is used for functional exploration, in order to figure out how things work, so that they then can be implemented in the allskycam.py-Module\n"
   ]
  },
  {
   "cell_type": "code",
   "execution_count": null,
   "metadata": {},
   "outputs": [],
   "source": [
    "import allskycam\n",
    "\n",
    "import ipywidgets as widgets\n",
    "from IPython.display import display\n",
    "\n",
    "from io import BytesIO\n",
    "from time import sleep\n",
    "from picamera import PiCamera\n",
    "\n",
    "from matplotlib import pyplot as plt\n",
    "\n",
    "import time\n",
    "import numpy as np"
   ]
  },
  {
   "cell_type": "markdown",
   "metadata": {},
   "source": [
    "## Camera capture to stream and display single image using PiCamera"
   ]
  },
  {
   "cell_type": "code",
   "execution_count": null,
   "metadata": {},
   "outputs": [],
   "source": [
    "stream = BytesIO()\n",
    "\n",
    "# grab image from camera\n",
    "with PiCamera() as camera:\n",
    "    camera.capture(stream, format='jpeg')\n",
    "    stream.seek(0)\n",
    "    jpeg_image = stream.read()\n",
    "\n",
    "# display image\n",
    "widgets.Image(\n",
    "    value=jpeg_image,\n",
    "    format='jpg',\n",
    "    width=900\n",
    ")"
   ]
  },
  {
   "cell_type": "markdown",
   "metadata": {},
   "source": [
    "## Camera capture to stream and display sequence of images using PiCamera"
   ]
  },
  {
   "cell_type": "code",
   "execution_count": null,
   "metadata": {},
   "outputs": [],
   "source": [
    "stream = BytesIO()\n",
    "\n",
    "wgt = widgets.Image(\n",
    "    format='jpeg',\n",
    "    width=900\n",
    ")\n",
    "display(wgt)\n",
    "\n",
    "# grab image from camera\n",
    "with PiCamera() as camera:\n",
    "    for i in range(100):\n",
    "        camera.capture(stream, format='jpeg')\n",
    "        stream.seek(0)\n",
    "        jpeg_image = stream.read()\n",
    "        wgt.value = jpeg_image"
   ]
  },
  {
   "cell_type": "markdown",
   "metadata": {},
   "source": [
    "## Acessing and controlling the camera\n",
    "\n",
    "It is very important to set both, framerate as well as shutter_speed to consistant values.\n",
    "\n",
    "If the frame_rate is too high, it is not possible to reach the exposure time, if the frame_rate is too low, a lot of time is needed to finalize the image capture sequence.\n",
    "\n",
    "In this example, the frame rate time is set 1 second longer than the exposure time."
   ]
  },
  {
   "cell_type": "code",
   "execution_count": null,
   "metadata": {},
   "outputs": [],
   "source": [
    "import picamera\n",
    "from picamera import PiCamera\n",
    "from time import sleep\n",
    "from fractions import Fraction\n",
    "picamera.CAPTURE_TIMEOUT = 1000\n",
    "PiCamera.CAPTURE_TIMEOUT = 1000"
   ]
  },
  {
   "cell_type": "code",
   "execution_count": null,
   "metadata": {},
   "outputs": [],
   "source": [
    "stream = BytesIO()\n",
    "expt = 180\n",
    "\n",
    "t0 = time.time()\n",
    "with PiCamera( framerate=Fraction(1, expt+1), sensor_mode=3) as camera:\n",
    "    allskycam.set_analog_gain(camera, 16)\n",
    "    allskycam.set_digital_gain(camera, 6)\n",
    "    camera.resolution = (1024, 768)\n",
    "    camera.still_stats = False\n",
    "    camera.shutter_speed = expt*1000000\n",
    "    camera.awb_gains = (2.4, 2.21)\n",
    "    camera.exposure_mode = 'off'\n",
    "    camera.awb_mode = 'off'\n",
    "    camera.capture(stream, format='jpeg',bayer=True)\n",
    "    stream.seek(0)\n",
    "    jpeg_image = stream.read()\n",
    "    t1 = time.time()\n",
    "print('%3.2f seconds'%(t1-t0))"
   ]
  },
  {
   "cell_type": "code",
   "execution_count": null,
   "metadata": {
    "scrolled": true
   },
   "outputs": [],
   "source": [
    "imw = widgets.Image(format='jpg')\n",
    "imw.value = jpeg_image\n",
    "display(imw)"
   ]
  },
  {
   "cell_type": "code",
   "execution_count": null,
   "metadata": {},
   "outputs": [],
   "source": [
    "# getting the raw image data\n",
    "stream.seek(0)\n",
    "raw = allskycam.get_bayer_data_from_stream(stream)\n",
    "\n",
    "R = raw[0::2,0::2]\n",
    "G1 = raw[1::2,0::2]\n",
    "G2 = raw[0::2,1::2]\n",
    "B = raw[1::2,1::2]\n",
    "\n",
    "R = R.flatten()\n",
    "G = np.append(G1.flatten(), G2.flatten())\n",
    "B = B.flatten()\n",
    "\n",
    "Gm = np.median(G)\n",
    "Rm = np.median(R)\n",
    "Bm = np.median(B)\n",
    "\n",
    "(Gm/Rm, Gm/Bm)"
   ]
  },
  {
   "cell_type": "code",
   "execution_count": null,
   "metadata": {},
   "outputs": [],
   "source": [
    "plt.hist(R,512, color='r', histtype=u'step');\n",
    "plt.hist(G,512, color='g', histtype=u'step');\n",
    "plt.hist(B,512, color='b', histtype=u'step');\n",
    "plt.xlim((0,600))"
   ]
  },
  {
   "cell_type": "markdown",
   "metadata": {},
   "source": [
    "## Looping Image Akquisition\n",
    "\n",
    "In the next section, the image akquisition is looped. Data is fetched from the camera including raw bayer data, for evaluation, but for storing the file, raw bayer data is striped away.\n"
   ]
  },
  {
   "cell_type": "code",
   "execution_count": 2,
   "metadata": {},
   "outputs": [],
   "source": [
    "import picamera\n",
    "from picamera import PiCamera\n",
    "from time import sleep\n",
    "from fractions import Fraction\n",
    "picamera.CAPTURE_TIMEOUT = 240\n",
    "PiCamera.CAPTURE_TIMEOUT = 240\n",
    "from io import BytesIO\n",
    "import time\n",
    "import allskycam\n",
    "import ipywidgets as widgets\n",
    "from IPython.display import display\n",
    "\n",
    "picamera.CAPTURE_TIMEOUT = 1000\n",
    "PiCamera.CAPTURE_TIMEOUT = 1000"
   ]
  },
  {
   "cell_type": "code",
   "execution_count": null,
   "metadata": {},
   "outputs": [
    {
     "data": {
      "application/vnd.jupyter.widget-view+json": {
       "model_id": "8157d9fd37344a34be8bfb67970959d7",
       "version_major": 2,
       "version_minor": 0
      },
      "text/plain": [
       "Image(value=b'\\xff\\xd8\\xff\\xe1c\\xd0Exif\\x00\\x00MM\\x00*\\x00\\x00\\x00\\x08\\x00\\n\\x01\\x00\\x00\\x04\\x00\\x00\\x00\\x01\\x…"
      ]
     },
     "metadata": {},
     "output_type": "display_data"
    }
   ],
   "source": [
    "stream = BytesIO()\n",
    "expt = 45\n",
    "period = 60\n",
    "\n",
    "for i in range(600):\n",
    "    wait_for_period(period)\n",
    "    t1 = time.time()\n",
    "    filename = time.strftime(\"%Y%m%d%H%M%S\")+'.jpg'\n",
    "    with PiCamera( framerate=Fraction(1, expt+1), sensor_mode=3) as camera:\n",
    "        t0 = t1\n",
    "        stream.seek(0)\n",
    "        allskycam.set_analog_gain(camera, 8)\n",
    "        allskycam.set_digital_gain(camera, 1)\n",
    "        camera.resolution = (1024, 768)\n",
    "        camera.still_stats = False\n",
    "        camera.shutter_speed = expt*1000000\n",
    "        camera.awb_gains = (2.4, 2.21)\n",
    "        camera.exposure_mode = 'off'\n",
    "        camera.awb_mode = 'off'\n",
    "        camera.capture(stream, format='jpeg',bayer=True)\n",
    "        stream.seek(0)\n",
    "        jpeg_image = stream.read()\n",
    "        t1 = time.time()\n",
    "        if i==0:\n",
    "            imw = widgets.Image(value = jpeg_image, format='jpg')\n",
    "            display(imw)\n",
    "        imw.value = jpeg_image\n",
    "        #print('%3.2f seconds'%(t1-t0))\n",
    "    stream.seek(0)\n",
    "    striped = allskycam.strip_bayer_data(stream)\n",
    "    with open(filename, 'wb') as f:\n",
    "        f.write(striped)\n",
    "        "
   ]
  },
  {
   "cell_type": "code",
   "execution_count": 20,
   "metadata": {},
   "outputs": [],
   "source": [
    "def wait_for_period(p):\n",
    "    t = time.time()\n",
    "    st = (int(t/p)+1)*p-t\n",
    "    time.sleep(st)"
   ]
  },
  {
   "cell_type": "code",
   "execution_count": 24,
   "metadata": {},
   "outputs": [
    {
     "name": "stdout",
     "output_type": "stream",
     "text": [
      "__main__\n"
     ]
    }
   ],
   "source": [
    "print(__name__)"
   ]
  },
  {
   "cell_type": "markdown",
   "metadata": {},
   "source": [
    "# Save jpeg image with stripped away raw data\n",
    "\n",
    "An image shall be akquired including raw data.\n",
    "The raw data part shall be truncated away leaving behind the plain jpeg.\n",
    "The truncated file without raw data shall be stored.\n"
   ]
  },
  {
   "cell_type": "code",
   "execution_count": null,
   "metadata": {},
   "outputs": [],
   "source": [
    "import picamera\n",
    "from picamera import PiCamera\n",
    "from time import sleep\n",
    "from fractions import Fraction\n",
    "picamera.CAPTURE_TIMEOUT = 240\n",
    "PiCamera.CAPTURE_TIMEOUT = 240\n",
    "from io import BytesIO\n",
    "import time\n",
    "import allskycam\n",
    "import ipywidgets as widgets\n",
    "from IPython.display import display\n",
    "\n",
    "picamera.CAPTURE_TIMEOUT = 1000\n",
    "PiCamera.CAPTURE_TIMEOUT = 1000\n",
    "\n",
    "stream = BytesIO()"
   ]
  },
  {
   "cell_type": "code",
   "execution_count": null,
   "metadata": {},
   "outputs": [],
   "source": [
    "expt = 10\n",
    "t0 = time.time()\n",
    "with PiCamera(sensor_mode=3) as camera:\n",
    "    allskycam.set_analog_gain(camera, 1)\n",
    "    allskycam.set_digital_gain(camera, 1)\n",
    "    camera.resolution = (1024, 768)\n",
    "    camera.still_stats = False\n",
    "    camera.framerate = 1/expt\n",
    "    camera.shutter_speed = int(expt*1000000)\n",
    "    camera.awb_gains = (2, 2.21)\n",
    "    camera.exposure_mode = 'off'\n",
    "    camera.awb_mode = 'off'\n",
    "    camera.capture(stream, format='jpeg',bayer=True)\n",
    "    t1 = time.time()\n",
    "    print('%3.2f seconds for a %3.2f s exposure'%((t1-t0), camera.exposure_speed/1000000))\n",
    "    print(camera.exposure_speed)\n",
    "    stream.seek(0)\n",
    "    jpeg_image = stream.read()\n",
    "\n",
    "imw = widgets.Image(format='jpg')\n",
    "imw.value = jpeg_image\n",
    "display(imw)"
   ]
  },
  {
   "cell_type": "code",
   "execution_count": null,
   "metadata": {},
   "outputs": [],
   "source": [
    "from picamera import PiCamera\n",
    "import time\n",
    "\n",
    "with PiCamera(sensor_mode=2) as cam:\n",
    "    exposure_time = 1.0 \n",
    "    cam.framerate = 1/exposure_time\n",
    "    cam.iso = 100\n",
    "    cam.shutter_speed = int(exposure_time*1000000)\n",
    "    cam.resolution = (1600, 900)\n",
    "    cam.exposure_mode = 'off'\n",
    "    time.sleep(5)\n",
    "    cam.capture(\"test.jpg\")\n",
    "    print(cam.exposure_speed)"
   ]
  },
  {
   "cell_type": "markdown",
   "metadata": {},
   "source": [
    "# Using PiCamera[Array]-functionallity"
   ]
  },
  {
   "cell_type": "code",
   "execution_count": null,
   "metadata": {},
   "outputs": [],
   "source": [
    "import picamera\n",
    "import picamera.array\n",
    "\n",
    "with picamera.PiCamera() as camera:\n",
    "    with picamera.array.PiBayerArray(camera) as output:\n",
    "        camera.capture(output, 'jpeg', bayer=True)\n",
    "        print(output.array.shape)"
   ]
  },
  {
   "cell_type": "code",
   "execution_count": null,
   "metadata": {},
   "outputs": [],
   "source": []
  }
 ],
 "metadata": {
  "kernelspec": {
   "display_name": "Python 3 (ipykernel)",
   "language": "python",
   "name": "python3"
  },
  "language_info": {
   "codemirror_mode": {
    "name": "ipython",
    "version": 3
   },
   "file_extension": ".py",
   "mimetype": "text/x-python",
   "name": "python",
   "nbconvert_exporter": "python",
   "pygments_lexer": "ipython3",
   "version": "3.9.2"
  }
 },
 "nbformat": 4,
 "nbformat_minor": 4
}
